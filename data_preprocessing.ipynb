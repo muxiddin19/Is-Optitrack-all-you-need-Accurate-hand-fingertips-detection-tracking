{
 "cells": [
  {
   "cell_type": "markdown",
   "id": "36aeb693",
   "metadata": {},
   "source": [
    "## Preprocessing Depth Data\n",
    "### NeWCRFs expects metric depth (meters), but RealSense depth might be in millimeters. Convert it:"
   ]
  },
  {
   "cell_type": "code",
   "execution_count": null,
   "id": "1bc7da9e",
   "metadata": {},
   "outputs": [],
   "source": [
    "# import cv2\n",
    "# import numpy as np\n",
    "# import os\n",
    "\n",
    "# DATASET_PATH = \"./datasets/custom_data/rgb_depth\"\n",
    "# CONVERTED_DEPTH_PATH = \"./datasets/custom_data/custom_data_converted/\"\n",
    "\n",
    "# # Ensure output folder exists\n",
    "# os.makedirs(CONVERTED_DEPTH_PATH, exist_ok=True)\n",
    "\n",
    "# # Convert depth images to meters\n",
    "# for folder in os.listdir(DATASET_PATH):\n",
    "#     depth_folder = os.path.join(DATASET_PATH, folder, \"depth\")\n",
    "#     output_depth_folder = os.path.join(CONVERTED_DEPTH_PATH, folder, \"depth\")\n",
    "#     os.makedirs(output_depth_folder, exist_ok=True)\n",
    "\n",
    "#     for file in os.listdir(depth_folder):\n",
    "#         depth_map = cv2.imread(os.path.join(depth_folder, file), cv2.IMREAD_UNCHANGED).astype(np.float32)\n",
    "#         depth_map /= 1000.0  # Convert mm to meters\n",
    "#         cv2.imwrite(os.path.join(output_depth_folder, file), (depth_map * 1000).astype(np.uint16))\n"
   ]
  },
  {
   "cell_type": "code",
   "execution_count": 16,
   "id": "9e20e3d3",
   "metadata": {},
   "outputs": [
    {
     "name": "stdout",
     "output_type": "stream",
     "text": [
      "Depth conversion completed! Converted files are stored inside each original folder.\n"
     ]
    }
   ],
   "source": [
    "import cv2\n",
    "import numpy as np\n",
    "import os\n",
    "\n",
    "DATASET_PATH = \"./datasets/custom_data/rgb_depth\"\n",
    "\n",
    "# Convert depth images to meters and store them inside the same folder structure\n",
    "for folder in os.listdir(DATASET_PATH):\n",
    "    folder_path = os.path.join(DATASET_PATH, folder)  # Get the subfolder path\n",
    "    depth_folder = os.path.join(folder_path, \"depth\")  # Original depth folder\n",
    "    converted_depth_folder = os.path.join(folder_path, \"depth_converted\")  # New converted depth folder\n",
    "\n",
    "    # Ensure converted depth folder exists inside the same subfolder\n",
    "    os.makedirs(converted_depth_folder, exist_ok=True)\n",
    "\n",
    "    for file in os.listdir(depth_folder):\n",
    "        depth_map = cv2.imread(os.path.join(depth_folder, file), cv2.IMREAD_UNCHANGED).astype(np.float32)\n",
    "        depth_map /= 1000.0  # Convert mm to meters\n",
    "        cv2.imwrite(os.path.join(converted_depth_folder, file), (depth_map * 1000).astype(np.uint16))\n",
    "\n",
    "print(\"Depth conversion completed! Converted files are stored inside each original folder.\")\n"
   ]
  },
  {
   "cell_type": "markdown",
   "id": "b3049154",
   "metadata": {},
   "source": [
    "## Adjust Dataset for NeWCRFs Training\n",
    "### NeWCRFs requires training files listing RGB-depth pairs. Generate train.txt:"
   ]
  },
  {
   "cell_type": "code",
   "execution_count": 17,
   "id": "4755ff90",
   "metadata": {},
   "outputs": [],
   "source": [
    "# import os\n",
    "\n",
    "# RGB_DATASET_PATH = \"./datasets/custom_data/rgb_depth/\"\n",
    "# DEPTH_DATASET_PATH = \"./datasets/custom_data/custom_data_converted/\"\n",
    "\n",
    "# TRAIN_FILE = \"./datasets/custom_data/train.txt\"\n",
    "\n",
    "# # Collect image pairs\n",
    "# with open(TRAIN_FILE, \"w\") as f:\n",
    "#     for folder in os.listdir(DATASET_PATH):\n",
    "#         rgb_folder = os.path.join(RGB_DATASET_PATH, folder, \"*\", \"rgb\")\n",
    "#         depth_folder = os.path.join(DEPTH_DATASET_PATH, folder, \"depth\")\n",
    "\n",
    "#         for file in os.listdir(rgb_folder):\n",
    "#             rgb_path = os.path.join(rgb_folder, file)\n",
    "#             depth_path = os.path.join(depth_folder, file)\n",
    "\n",
    "#             if os.path.exists(depth_path):\n",
    "#                 f.write(f\"{rgb_path} {depth_path}\\n\")\n"
   ]
  },
  {
   "cell_type": "code",
   "execution_count": 18,
   "id": "62d91bb8",
   "metadata": {},
   "outputs": [],
   "source": [
    "# import os\n",
    "\n",
    "# # Define paths\n",
    "# RGB_DATASET_PATH = \"./datasets/custom_data/rgb_depth/\"\n",
    "# DEPTH_DATASET_PATH = \"./datasets/custom_data/custom_data_converted/\"\n",
    "# TRAIN_FILE = \"./datasets/custom_data/train.txt\"\n",
    "\n",
    "# # Step 1: Collect all RGB files based on filename (ignore folder name)\n",
    "# rgb_files = {}\n",
    "# for folder in os.listdir(RGB_DATASET_PATH):  # Loop through RGB folders\n",
    "#     rgb_folder = os.path.join(RGB_DATASET_PATH, folder, \"rgb\")\n",
    "    \n",
    "#     if os.path.exists(rgb_folder):\n",
    "#         for file in os.listdir(rgb_folder):  # Collect filenames (without folder names)\n",
    "#             rgb_files[file] = os.path.join(rgb_folder, file)  # Store full path\n",
    "\n",
    "# # Step 2: Collect Depth files & match them using filename\n",
    "# with open(TRAIN_FILE, \"w\") as f:\n",
    "#     for folder in os.listdir(DEPTH_DATASET_PATH):  # Loop through Depth folders\n",
    "#         depth_folder = os.path.join(DEPTH_DATASET_PATH, folder, \"depth\")\n",
    "        \n",
    "#         if os.path.exists(depth_folder):\n",
    "#             for file in os.listdir(depth_folder):  # Collect depth filenames\n",
    "#                 if file in rgb_files:  # Match by filename only\n",
    "#                     f.write(f\"{rgb_files[file]} {os.path.join(depth_folder, file)}\\n\")\n"
   ]
  },
  {
   "cell_type": "code",
   "execution_count": 22,
   "id": "31752035",
   "metadata": {},
   "outputs": [
    {
     "name": "stdout",
     "output_type": "stream",
     "text": [
      "Train file successfully created with correct RGB-Converted Depth pairs!\n"
     ]
    }
   ],
   "source": [
    "import os\n",
    "\n",
    "DATASET_PATH = \"./datasets/custom_data/rgb_depth\"\n",
    "TRAIN_FILE = \"./datasets/custom_data/train.txt\"\n",
    "\n",
    "# Create a list of RGB-Depth pairs\n",
    "with open(TRAIN_FILE, \"w\") as f:\n",
    "    for folder in os.listdir(DATASET_PATH):\n",
    "        folder_path = os.path.join(DATASET_PATH, folder)\n",
    "        \n",
    "        rgb_folder = os.path.join(folder_path, \"rgb\")  # RGB folder\n",
    "        depth_folder = os.path.join(folder_path, \"depth_converted\")  # Converted depth folder\n",
    "        \n",
    "        # Ensure both directories exist before processing\n",
    "        if os.path.exists(rgb_folder) and os.path.exists(depth_folder):\n",
    "            for file in os.listdir(rgb_folder):  # Iterate through RGB images\n",
    "                rgb_path = os.path.join(rgb_folder, file)\n",
    "                depth_path = os.path.join(depth_folder, file)\n",
    "\n",
    "                if os.path.exists(depth_path):  # Ensure matching depth exists\n",
    "                    f.write(f\"{rgb_path} {depth_path}\\n\")\n",
    "\n",
    "print(\"Train file successfully created with correct RGB-Converted Depth pairs!\")\n"
   ]
  },
  {
   "cell_type": "markdown",
   "id": "516d0db0",
   "metadata": {},
   "source": [
    "## Automatically Split Your Data"
   ]
  },
  {
   "cell_type": "code",
   "execution_count": null,
   "id": "6f9b5d47",
   "metadata": {},
   "outputs": [],
   "source": [
    "import os\n",
    "import shutil\n",
    "import random\n",
    "\n",
    "DATASET_PATH = \"./datasets/custom_data/rgb_depth/\"\n",
    "SPLIT_PATH = \"./datasets/custom_data/custom_data_split/\"\n",
    "TRAIN_RATIO = 0.8  # 80% Train\n",
    "VAL_RATIO = 0.1     # 10% Validation\n",
    "TEST_RATIO = 0.1    # 10% Test\n",
    "\n",
    "# Create output folders\n",
    "for split in [\"train\", \"val\", \"test\"]:\n",
    "    os.makedirs(os.path.join(SPLIT_PATH, split, \"rgb\"), exist_ok=True)\n",
    "    os.makedirs(os.path.join(SPLIT_PATH, split, \"depth_converted\"), exist_ok=True)\n",
    "\n",
    "# Collect all filenames\n",
    "folders = os.listdir(DATASET_PATH)\n",
    "rgb_depth_pairs = []\n",
    "for folder in folders:\n",
    "    rgb_folder = os.path.join(DATASET_PATH, folder, \"rgb\")\n",
    "    depth_folder = os.path.join(DATASET_PATH, folder, \"depth_converted\")\n",
    "\n",
    "    if os.path.exists(rgb_folder) and os.path.exists(depth_folder):\n",
    "        for file in os.listdir(rgb_folder):\n",
    "            depth_file = os.path.join(depth_folder, file)\n",
    "            if os.path.exists(depth_file):\n",
    "                rgb_depth_pairs.append((os.path.join(rgb_folder, file), depth_file))\n",
    "\n",
    "# Shuffle and split data\n",
    "random.shuffle(rgb_depth_pairs)\n",
    "train_split = int(len(rgb_depth_pairs) * TRAIN_RATIO)\n",
    "val_split = int(len(rgb_depth_pairs) * (TRAIN_RATIO + VAL_RATIO))\n",
    "\n",
    "train_data = rgb_depth_pairs[:train_split]\n",
    "val_data = rgb_depth_pairs[train_split:val_split]\n",
    "test_data = rgb_depth_pairs[val_split:]\n",
    "\n",
    "# Function to move files to correct folders\n",
    "def move_files(data, split_name):\n",
    "    for rgb_path, depth_path in data:\n",
    "        shutil.copy(rgb_path, os.path.join(SPLIT_PATH, split_name, \"rgb\", os.path.basename(rgb_path)))\n",
    "        shutil.copy(depth_path, os.path.join(SPLIT_PATH, split_name, \"depth_converted\", os.path.basename(depth_path)))\n",
    "\n",
    "# Move files to respective folders\n",
    "move_files(train_data, \"train\")\n",
    "move_files(val_data, \"val\")\n",
    "move_files(test_data, \"test\")\n",
    "\n",
    "print(\"Data splitting completed! Check the 'datasets/custom_data_split' directory.\")\n"
   ]
  },
  {
   "cell_type": "code",
   "execution_count": null,
   "id": "e4318377",
   "metadata": {},
   "outputs": [],
   "source": []
  }
 ],
 "metadata": {
  "kernelspec": {
   "display_name": "vr",
   "language": "python",
   "name": "python3"
  },
  "language_info": {
   "codemirror_mode": {
    "name": "ipython",
    "version": 3
   },
   "file_extension": ".py",
   "mimetype": "text/x-python",
   "name": "python",
   "nbconvert_exporter": "python",
   "pygments_lexer": "ipython3",
   "version": "3.9.21"
  }
 },
 "nbformat": 4,
 "nbformat_minor": 5
}
